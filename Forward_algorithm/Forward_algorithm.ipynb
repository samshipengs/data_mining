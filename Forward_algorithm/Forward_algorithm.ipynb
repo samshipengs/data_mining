{
 "cells": [
  {
   "cell_type": "markdown",
   "metadata": {},
   "source": [
    "### A. Set up HMM model"
   ]
  },
  {
   "cell_type": "code",
   "execution_count": 1,
   "metadata": {
    "collapsed": true
   },
   "outputs": [],
   "source": [
    "import time\n",
    "\n",
    "states = ('Rainy', 'Sunny')\n",
    " \n",
    "observations = ('walk', 'shop', 'clean')\n",
    " \n",
    "initial_probability = {'Rainy': 0.6, 'Sunny': 0.4}\n",
    " \n",
    "transition_matrix = {\n",
    "   'Rainy' : {'Rainy': 0.7, 'Sunny': 0.3},\n",
    "   'Sunny' : {'Rainy': 0.4, 'Sunny': 0.6},\n",
    "   }\n",
    " \n",
    "emission_matrix = {\n",
    "   'Rainy' : {'walk': 0.1, 'shop': 0.4, 'clean': 0.5},\n",
    "   'Sunny' : {'walk': 0.6, 'shop': 0.3, 'clean': 0.1},\n",
    "   }\n",
    "\n",
    "# modified from wiki: https://en.wikipedia.org/wiki/Hidden_Markov_model"
   ]
  },
  {
   "cell_type": "markdown",
   "metadata": {},
   "source": [
    "### B. Input a sequence of obervations vector"
   ]
  },
  {
   "cell_type": "code",
   "execution_count": 2,
   "metadata": {
    "collapsed": false
   },
   "outputs": [],
   "source": [
    "sequence_observations = ('shop', 'walk', 'clean', 'shop', 'walk')"
   ]
  },
  {
   "cell_type": "markdown",
   "metadata": {},
   "source": [
    "### C. Probablity of the sequence observation "
   ]
  },
  {
   "cell_type": "markdown",
   "metadata": {},
   "source": [
    "##### C.1 Forward Algorithm\n",
    "Let $z_k$ be the $k$th hidden state that can take $m$ number of discrete values, e.g. ('Rainy', 'Sunny'), and $x_{1:k}=(x_1, x_2, ... , x_k)$ is the observation vector, where each $x_i$ is one of for example ('walk', 'shop', 'clean').\n",
    "\n",
    "Compute $P(z_k, x_{1:k})$ first,\n",
    "\n",
    "$\\begin{align*}\n",
    "P(z_k, x_{1:k})&=\\sum_{z_{k-1=1}}^{m}P(z_k. z_{k-1}, x_{1:k})\\\\\n",
    "&=\\sum_{z_{k-1}=1}P(x_k|z_k, z_{k-1}, x_{1:k-1})P(z_k|z_{k-1},x_{1:k-1})P(z_{k-1}|x_{1:k-1})P(x_{1:k-1})\\\\\n",
    "\\end{align*}$\n",
    "\n",
    "from Markov property,\n",
    "\n",
    "$\\begin{equation*}\n",
    "P(z_k, x_{1:k})=\\sum_{z_{k-1}=1}P(x_k|z_k)P(z_k|z_{k-1})P(z_{k-1},x_{1:k-1})\n",
    "\\end{equation*}$\n",
    "\n",
    "notice how $P(z_k, x_{1:k})$ reoccurs, we can therefore apply recursion or dynamic programming."
   ]
  },
  {
   "cell_type": "code",
   "execution_count": 3,
   "metadata": {
    "collapsed": false,
    "scrolled": true
   },
   "outputs": [
    {
     "name": "stdout",
     "output_type": "stream",
     "text": [
      "Time spent: 0.000108957290649s\n",
      "Probability of the observations vector is:  0.003286224\n"
     ]
    }
   ],
   "source": [
    "def forward_recur(z, x, tm=transition_matrix, em=emission_matrix, init=initial_probability):\n",
    "    ''' z(str): state, e.g. rainny or sunny.\n",
    "        x(tuple of strs): sequence of observation.\n",
    "        tm(dict): transition matrix.\n",
    "        em(dict): emission matrix.\n",
    "        init(dict): initial probablity.'''\n",
    "    m = tm.keys() # states\n",
    "    if len(x) == 1:\n",
    "        return em[z][x[0]]*init[z]\n",
    "    pzx = 0.\n",
    "    for i in range(len(m)):\n",
    "        pzx += em[z][x[-1]]*tm[m[i]][z]*forward_recur(m[i], x[:-1])\n",
    "    return pzx\n",
    "\n",
    "# sum up joint dist\n",
    "t_start = time.time()\n",
    "p_joint = [forward_recur(i, sequence_observations) for i in transition_matrix.keys()]\n",
    "t_end = time.time()\n",
    "print \"Time spent: {}s\".format(t_end-t_start)\n",
    "print \"Probability of the observations vector is: \", sum(p_joint)"
   ]
  },
  {
   "cell_type": "markdown",
   "metadata": {
    "collapsed": true
   },
   "source": [
    "##### C.2 Exhaustive Search\n",
    "Given a sequence of observed vectors, we compute the sum of probabilities of all the possible configuration of states."
   ]
  },
  {
   "cell_type": "code",
   "execution_count": 4,
   "metadata": {
    "collapsed": false
   },
   "outputs": [
    {
     "name": "stdout",
     "output_type": "stream",
     "text": [
      "Time spent: 8.29696655273e-05s\n",
      "Probability of the observations vector is:  0.003286224\n"
     ]
    }
   ],
   "source": [
    "from itertools import product\n",
    "\n",
    "def exhaustive(x, tm=transition_matrix, em=emission_matrix, init=initial_probability):\n",
    "    m = len(tm.keys()) # number of state\n",
    "    n = len(x) # length of observation\n",
    "    result = 0.\n",
    "    for comb in product(tm.keys(), repeat=n):\n",
    "        p_comb = init[comb[0]]*em[comb[0]][x[0]]\n",
    "        for i in range(1,n): # iterate through rest of sequence\n",
    "            p_comb *= tm[comb[i-1]][comb[i]]*em[comb[i]][x[i]]\n",
    "        result += p_comb\n",
    "    return result\n",
    "\n",
    "t_start = time.time()  \n",
    "p = exhaustive(sequence_observations)\n",
    "t_end = time.time()\n",
    "print \"Time spent: {}s\".format(t_end-t_start)\n",
    "print \"Probability of the observations vector is: \", p"
   ]
  },
  {
   "cell_type": "markdown",
   "metadata": {},
   "source": [
    "Compare *C.1* and *C.2* we see there result match.\n",
    "\n",
    "(notice how exhaustive search takes shorter time than recursion method in this case, but it would take much more time than recursion when length of sequence of observations gets large)"
   ]
  }
 ],
 "metadata": {
  "kernelspec": {
   "display_name": "Python 2",
   "language": "python",
   "name": "python2"
  },
  "language_info": {
   "codemirror_mode": {
    "name": "ipython",
    "version": 2
   },
   "file_extension": ".py",
   "mimetype": "text/x-python",
   "name": "python",
   "nbconvert_exporter": "python",
   "pygments_lexer": "ipython2",
   "version": "2.7.12"
  }
 },
 "nbformat": 4,
 "nbformat_minor": 1
}
