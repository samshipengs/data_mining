{
 "cells": [
  {
   "cell_type": "markdown",
   "metadata": {},
   "source": [
    "### A. Set up HMM model"
   ]
  },
  {
   "cell_type": "code",
   "execution_count": 3,
   "metadata": {
    "collapsed": true
   },
   "outputs": [],
   "source": [
    "states = ('Rainy', 'Sunny')\n",
    " \n",
    "observations = ('walk', 'shop', 'clean')\n",
    " \n",
    "initial_probability = {'Rainy': 0.6, 'Sunny': 0.4}\n",
    " \n",
    "transition_matrix = {\n",
    "   'Rainy' : {'Rainy': 0.7, 'Sunny': 0.3},\n",
    "   'Sunny' : {'Rainy': 0.4, 'Sunny': 0.6},\n",
    "   }\n",
    " \n",
    "emission_matrix = {\n",
    "   'Rainy' : {'walk': 0.1, 'shop': 0.4, 'clean': 0.5},\n",
    "   'Sunny' : {'walk': 0.6, 'shop': 0.3, 'clean': 0.1},\n",
    "   }\n",
    "\n",
    "# modified from wiki: https://en.wikipedia.org/wiki/Hidden_Markov_model"
   ]
  },
  {
   "cell_type": "code",
   "execution_count": 12,
   "metadata": {
    "collapsed": false
   },
   "outputs": [
    {
     "data": {
      "text/plain": [
       "0.4"
      ]
     },
     "execution_count": 12,
     "metadata": {},
     "output_type": "execute_result"
    }
   ],
   "source": [
    "emission_matrix['Rainy']['shop']"
   ]
  },
  {
   "cell_type": "code",
   "execution_count": 13,
   "metadata": {
    "collapsed": false
   },
   "outputs": [
    {
     "data": {
      "text/plain": [
       "['Rainy', 'Sunny']"
      ]
     },
     "execution_count": 13,
     "metadata": {},
     "output_type": "execute_result"
    }
   ],
   "source": [
    "transition_matrix.keys()"
   ]
  },
  {
   "cell_type": "code",
   "execution_count": 15,
   "metadata": {
    "collapsed": false
   },
   "outputs": [
    {
     "data": {
      "text/plain": [
       "('Rainy',)"
      ]
     },
     "execution_count": 15,
     "metadata": {},
     "output_type": "execute_result"
    }
   ],
   "source": [
    "states[:-1]"
   ]
  },
  {
   "cell_type": "markdown",
   "metadata": {},
   "source": [
    "### B. Input a sequence of obervations vector"
   ]
  },
  {
   "cell_type": "code",
   "execution_count": 20,
   "metadata": {
    "collapsed": false
   },
   "outputs": [],
   "source": [
    "sequence_observations = ('shop', 'walk')"
   ]
  },
  {
   "cell_type": "markdown",
   "metadata": {},
   "source": [
    "### C. Probablity of the sequence observation "
   ]
  },
  {
   "cell_type": "markdown",
   "metadata": {},
   "source": [
    "##### Forward Algorithm\n",
    "Let $z_k$ be the $k$th hidden state that can take $m$ number of discrete values, e.g. ('Rainy', 'Sunny'), and $x_{1:k}=(x_1, x_2, ... , x_k)$ is the observation vector, where each $x_i$ is one of for example ('walk', 'shop', 'clean'). </br>\n",
    "\n",
    "Compute $P(z_k, x_{1:k})$ first,</br>\n",
    "\n",
    "$\\begin{align*}\n",
    "p(z_k, x_{1:k})&=\\sum_{z_{k-1=1}}^{m}P(z_k. z_{k-1}, x_{1:k})\\\\\n",
    "&=\\sum_{z_{k-1}=1}P(x_k|z_k, z_{k-1}, x_{1:k-1})P(z_k|z_{k-1},x_{1:k-1})P(z_{k-1}|x_{1:k-1})P(x_{1:k-1})\\\\\n",
    "\\end{align*}$</br>\n",
    "\n",
    "from Markov property,</br>\n",
    "\n",
    "$\\begin{equation*}\n",
    "P(z_k, x_{1:k})=\\sum_{z_{k-1}=1}P(x_k|z_k)P(z_k|z_{k-1})P(z_{k-1},x_{1:k-1})\n",
    "\\end{equation*}$</br>\n",
    "\n",
    "notice how $P(z_k, x_{1:k})$ reoccurs, we can therefore apply recursion or dynamic programming, and we have the first term $P(z_1, x_{1})=P(z_1)P(x_1|z_1)$."
   ]
  },
  {
   "cell_type": "code",
   "execution_count": 30,
   "metadata": {
    "collapsed": false
   },
   "outputs": [
    {
     "name": "stdout",
     "output_type": "stream",
     "text": [
      " Probability of the observations vector is:  0.108\n"
     ]
    }
   ],
   "source": [
    "def forward_recur(z, x, tm=transition_matrix, em=emission_matrix, init=initial_probability):\n",
    "    ''' z(str): state, e.g. rainny or sunny.\n",
    "        x(tuple of strs): sequence of observation.\n",
    "        tm(dict): transition matrix.\n",
    "        em(dict): emission matrix.\n",
    "        init(dict): initial probablity.'''\n",
    "    m = tm.keys() # states\n",
    "    if len(x) == 1:\n",
    "        return em[z][x[0]]*init[z]\n",
    "    pzx = 0.\n",
    "    for i in range(len(m)):\n",
    "        pzx += em[z][x[-1]]*tm[m[i]][z]*forward_recur(m[i], x[:-1])\n",
    "    return pzx\n",
    "\n",
    "# sum up joint dist\n",
    "p_joint = [forward_recur(i, sequence_observations) for i in transition_matrix.keys()]\n",
    "print \"Probability of the observations vector is: \", sum(p_joint)"
   ]
  },
  {
   "cell_type": "code",
   "execution_count": null,
   "metadata": {
    "collapsed": true
   },
   "outputs": [],
   "source": []
  }
 ],
 "metadata": {
  "kernelspec": {
   "display_name": "Python 2",
   "language": "python",
   "name": "python2"
  },
  "language_info": {
   "codemirror_mode": {
    "name": "ipython",
    "version": 2
   },
   "file_extension": ".py",
   "mimetype": "text/x-python",
   "name": "python",
   "nbconvert_exporter": "python",
   "pygments_lexer": "ipython2",
   "version": "2.7.12"
  }
 },
 "nbformat": 4,
 "nbformat_minor": 1
}
