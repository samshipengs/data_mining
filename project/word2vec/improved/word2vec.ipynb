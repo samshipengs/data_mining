{
 "cells": [
  {
   "cell_type": "code",
   "execution_count": 1,
   "metadata": {
    "collapsed": false
   },
   "outputs": [
    {
     "ename": "NameError",
     "evalue": "name '__file__' is not defined",
     "output_type": "error",
     "traceback": [
      "\u001b[0;31m---------------------------------------------------------------------------\u001b[0m",
      "\u001b[0;31mNameError\u001b[0m                                 Traceback (most recent call last)",
      "\u001b[0;32m<ipython-input-1-6ec210007ed5>\u001b[0m in \u001b[0;36m<module>\u001b[0;34m()\u001b[0m\n\u001b[1;32m     13\u001b[0m \u001b[0;32mimport\u001b[0m \u001b[0mtensorflow\u001b[0m \u001b[0;32mas\u001b[0m \u001b[0mtf\u001b[0m\u001b[0;34m\u001b[0m\u001b[0m\n\u001b[1;32m     14\u001b[0m \u001b[0;34m\u001b[0m\u001b[0m\n\u001b[0;32m---> 15\u001b[0;31m \u001b[0mword2vec\u001b[0m \u001b[0;34m=\u001b[0m \u001b[0mtf\u001b[0m\u001b[0;34m.\u001b[0m\u001b[0mload_op_library\u001b[0m\u001b[0;34m(\u001b[0m\u001b[0mos\u001b[0m\u001b[0;34m.\u001b[0m\u001b[0mpath\u001b[0m\u001b[0;34m.\u001b[0m\u001b[0mjoin\u001b[0m\u001b[0;34m(\u001b[0m\u001b[0mos\u001b[0m\u001b[0;34m.\u001b[0m\u001b[0mpath\u001b[0m\u001b[0;34m.\u001b[0m\u001b[0mdirname\u001b[0m\u001b[0;34m(\u001b[0m\u001b[0mos\u001b[0m\u001b[0;34m.\u001b[0m\u001b[0mpath\u001b[0m\u001b[0;34m.\u001b[0m\u001b[0mrealpath\u001b[0m\u001b[0;34m(\u001b[0m\u001b[0m__file__\u001b[0m\u001b[0;34m)\u001b[0m\u001b[0;34m)\u001b[0m\u001b[0;34m,\u001b[0m \u001b[0;34m'word2vec_ops.so'\u001b[0m\u001b[0;34m)\u001b[0m\u001b[0;34m)\u001b[0m\u001b[0;34m\u001b[0m\u001b[0m\n\u001b[0m",
      "\u001b[0;31mNameError\u001b[0m: name '__file__' is not defined"
     ]
    }
   ],
   "source": [
    "from __future__ import absolute_import\n",
    "from __future__ import division\n",
    "from __future__ import print_function\n",
    "\n",
    "import os\n",
    "import sys\n",
    "import threading\n",
    "import time\n",
    "\n",
    "from six.moves import xrange  # pylint: disable=redefined-builtin\n",
    "\n",
    "import numpy as np\n",
    "import tensorflow as tf\n",
    "\n",
    "word2vec = tf.load_op_library(os.path.join(os.path.dirname(os.path.realpath(__file__)), 'word2vec_ops.so'))"
   ]
  },
  {
   "cell_type": "code",
   "execution_count": null,
   "metadata": {
    "collapsed": true
   },
   "outputs": [],
   "source": [
    "flags = tf.app.flags\n",
    "\n",
    "flags.DEFINE_string(\"save_path\", None, \"Directory to write the model and \"\n",
    "                    \"training summaries.\")\n",
    "flags.DEFINE_string(\"train_data\", None, \"Training text file. \"\n",
    "                    \"E.g., unzipped file http://mattmahoney.net/dc/text8.zip.\")\n",
    "flags.DEFINE_string(\n",
    "    \"eval_data\", None, \"File consisting of analogies of four tokens.\"\n",
    "    \"embedding 2 - embedding 1 + embedding 3 should be close \"\n",
    "    \"to embedding 4.\"\n",
    "    \"See README.md for how to get 'questions-words.txt'.\")\n",
    "flags.DEFINE_integer(\"embedding_size\", 200, \"The embedding dimension size.\")\n",
    "flags.DEFINE_integer(\n",
    "    \"epochs_to_train\", 15,\n",
    "    \"Number of epochs to train. Each epoch processes the training data once \"\n",
    "    \"completely.\")\n",
    "flags.DEFINE_float(\"learning_rate\", 0.2, \"Initial learning rate.\")\n",
    "flags.DEFINE_integer(\"num_neg_samples\", 100,\n",
    "                     \"Negative samples per training example.\")\n",
    "flags.DEFINE_integer(\"batch_size\", 16,\n",
    "                     \"Number of training examples processed per step \"\n",
    "                     \"(size of a minibatch).\")\n",
    "flags.DEFINE_integer(\"concurrent_steps\", 12,\n",
    "                     \"The number of concurrent training steps.\")\n",
    "flags.DEFINE_integer(\"window_size\", 5,\n",
    "                     \"The number of words to predict to the left and right \"\n",
    "                     \"of the target word.\")\n",
    "flags.DEFINE_integer(\"min_count\", 5,\n",
    "                     \"The minimum number of word occurrences for it to be \"\n",
    "                     \"included in the vocabulary.\")\n",
    "flags.DEFINE_float(\"subsample\", 1e-3,\n",
    "                   \"Subsample threshold for word occurrence. Words that appear \"\n",
    "                   \"with higher frequency will be randomly down-sampled. Set \"\n",
    "                   \"to 0 to disable.\")\n",
    "flags.DEFINE_boolean(\n",
    "    \"interactive\", False,\n",
    "    \"If true, enters an IPython interactive session to play with the trained \"\n",
    "    \"model. E.g., try model.analogy(b'france', b'paris', b'russia') and \"\n",
    "    \"model.nearby([b'proton', b'elephant', b'maxwell'])\")\n",
    "flags.DEFINE_integer(\"statistics_interval\", 5,\n",
    "                     \"Print statistics every n seconds.\")\n",
    "flags.DEFINE_integer(\"summary_interval\", 5,\n",
    "                     \"Save training summary to file every n seconds (rounded \"\n",
    "                     \"up to statistics interval).\")\n",
    "flags.DEFINE_integer(\"checkpoint_interval\", 600,\n",
    "                     \"Checkpoint the model (i.e. save the parameters) every n \"\n",
    "                     \"seconds (rounded up to statistics interval).\")\n",
    "\n",
    "FLAGS = flags.FLAGS"
   ]
  },
  {
   "cell_type": "code",
   "execution_count": null,
   "metadata": {
    "collapsed": true
   },
   "outputs": [],
   "source": []
  }
 ],
 "metadata": {
  "kernelspec": {
   "display_name": "Python 2",
   "language": "python",
   "name": "python2"
  },
  "language_info": {
   "codemirror_mode": {
    "name": "ipython",
    "version": 2
   },
   "file_extension": ".py",
   "mimetype": "text/x-python",
   "name": "python",
   "nbconvert_exporter": "python",
   "pygments_lexer": "ipython2",
   "version": "2.7.12"
  }
 },
 "nbformat": 4,
 "nbformat_minor": 1
}
